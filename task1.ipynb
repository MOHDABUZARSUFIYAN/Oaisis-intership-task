{
  "nbformat": 4,
  "nbformat_minor": 0,
  "metadata": {
    "colab": {
      "provenance": [],
      "authorship_tag": "ABX9TyPT33dBkjeDregU0yl6xeWE",
      "include_colab_link": true
    },
    "kernelspec": {
      "name": "python3",
      "display_name": "Python 3"
    },
    "language_info": {
      "name": "python"
    }
  },
  "cells": [
    {
      "cell_type": "markdown",
      "metadata": {
        "id": "view-in-github",
        "colab_type": "text"
      },
      "source": [
        "<a href=\"https://colab.research.google.com/github/MOHDABUZARSUFIYAN/iris-flower-classification/blob/main/task1.ipynb\" target=\"_parent\"><img src=\"https://colab.research.google.com/assets/colab-badge.svg\" alt=\"Open In Colab\"/></a>"
      ]
    },
    {
      "cell_type": "markdown",
      "source": [
        "**IMPORTING** **LIBRARIES**"
      ],
      "metadata": {
        "id": "vB4kOoxUCPR7"
      }
    },
    {
      "cell_type": "code",
      "execution_count": null,
      "metadata": {
        "id": "PlAi36VBhBD9"
      },
      "outputs": [],
      "source": [
        "#importing libraries for the project\n",
        "import numpy as np\n",
        "import pandas as pd\n",
        "import matplotlib.pyplot as plt\n",
        "import seaborn as sns\n",
        "from sklearn.model_selection import train_test_split\n",
        "from sklearn.linear_model import LinearRegression\n",
        "from sklearn.metrics import accuracy_score"
      ]
    },
    {
      "cell_type": "markdown",
      "source": [
        "**IMPORTING** **DATASET**"
      ],
      "metadata": {
        "id": "Mb3XQvcuCQLy"
      }
    },
    {
      "cell_type": "code",
      "source": [
        "columns = ['Sepallength', 'Sepalwidth', 'Petallength', 'Petalwidth', 'class']\n",
        "df=pd.read_csv(\"iris_csv.csv\")\n",
        "df.head()"
      ],
      "metadata": {
        "id": "WFuvLh6hhRSI"
      },
      "execution_count": null,
      "outputs": []
    },
    {
      "cell_type": "markdown",
      "source": [
        "**DESCRIBE** **THE** **DATA**"
      ],
      "metadata": {
        "id": "KaXF95YmCRYI"
      }
    },
    {
      "cell_type": "code",
      "source": [
        "df.describe()"
      ],
      "metadata": {
        "id": "fFwOTO4Oi6zE"
      },
      "execution_count": null,
      "outputs": []
    },
    {
      "cell_type": "markdown",
      "source": [],
      "metadata": {
        "id": "GdAur0R4CSaV"
      }
    },
    {
      "cell_type": "code",
      "source": [
        "df.isnull().sum()"
      ],
      "metadata": {
        "id": "sFCYIFD2kYUq"
      },
      "execution_count": null,
      "outputs": []
    },
    {
      "cell_type": "markdown",
      "source": [
        "**FINDING DATATYPE AND CHECKING MISSING VALUE**"
      ],
      "metadata": {
        "id": "VeWL3ATuFOWx"
      }
    },
    {
      "cell_type": "code",
      "source": [
        "\n",
        "print('see what type of data you have:\\n',df.dtypes)\n",
        "print('//////////////////////////////////////////////')\n",
        "print('check for missing values:\\n',df.isnull().sum())"
      ],
      "metadata": {
        "id": "4zMEs68zy_mw"
      },
      "execution_count": null,
      "outputs": []
    },
    {
      "cell_type": "markdown",
      "source": [
        "**SEPERATING INPUT COLUMN AND THE OUTPUT COLUMN**"
      ],
      "metadata": {
        "id": "Xf656rYlExip"
      }
    },
    {
      "cell_type": "code",
      "source": [
        "#seperate feature and selection of terget\n",
        "data= df.values\n",
        "x=data[:,0:4]\n",
        "y=data[:,1]\n",
        "#print(x)\n",
        "#print(y)\n"
      ],
      "metadata": {
        "id": "zHexE0jyl9bH"
      },
      "execution_count": null,
      "outputs": []
    },
    {
      "cell_type": "markdown",
      "source": [
        "**SPLITTINF** **OF** **DATA**"
      ],
      "metadata": {
        "id": "WnQE4MwRFGvZ"
      }
    },
    {
      "cell_type": "code",
      "source": [
        "print('how split:\\n')\n",
        "print('x_train',x_train.shape)\n",
        "print('y_train',y_train.shape)\n",
        "print('x_test',x_test.shape)\n",
        "print('y_test',y_test.shape)"
      ],
      "metadata": {
        "id": "KPvi1mv2mFsi"
      },
      "execution_count": null,
      "outputs": []
    },
    {
      "cell_type": "markdown",
      "source": [
        "**VISUALIZATION** **OF** **OUR** **DATA**"
      ],
      "metadata": {
        "id": "slbPUzNIEeTS"
      }
    },
    {
      "cell_type": "code",
      "source": [
        "# importing packages\n",
        "import seaborn as sns\n",
        "import matplotlib.pyplot as plt\n",
        "\n",
        "\n",
        "sns.countplot(x='class', data=df, )\n",
        "plt.show()"
      ],
      "metadata": {
        "id": "sbheDxXzkoD-"
      },
      "execution_count": null,
      "outputs": []
    },
    {
      "cell_type": "code",
      "source": [
        "#visualization of data\n",
        "iris=sns.load_dataset(\"iris\")\n",
        "g=sns.pairplot(iris,hue_order=[\"iris\"])"
      ],
      "metadata": {
        "id": "a60l0i-BlgbA"
      },
      "execution_count": null,
      "outputs": []
    },
    {
      "cell_type": "markdown",
      "source": [
        "**BOXPLOT**"
      ],
      "metadata": {
        "id": "E2ggJIjvOkI8"
      }
    },
    {
      "cell_type": "code",
      "source": [
        "\n",
        "sns.boxplot(x=\"sepal_length\",y=\"species\",data=iris)\n",
        "sns.boxplot(x=\"sepal_width\",y=\"species\",data=iris)"
      ],
      "metadata": {
        "id": "ZPvNjiMJ9ot3"
      },
      "execution_count": null,
      "outputs": []
    },
    {
      "cell_type": "code",
      "source": [
        "\n",
        "sns.boxplot(x=\"petal_length\",y=\"species\",data=iris)\n",
        "sns.boxplot(x=\"petal_width\",y=\"species\",data=iris)"
      ],
      "metadata": {
        "id": "IsU0Q4wXOD0P"
      },
      "execution_count": null,
      "outputs": []
    },
    {
      "cell_type": "markdown",
      "source": [
        "*HISTPLOT*"
      ],
      "metadata": {
        "id": "KjiQSoEjG5cu"
      }
    },
    {
      "cell_type": "code",
      "source": [
        "\n",
        "iris.hist(edgecolor='black',figsize=(10,10))\n",
        "plt.show()\n"
      ],
      "metadata": {
        "id": "GhiRRnP6_FbZ"
      },
      "execution_count": null,
      "outputs": []
    },
    {
      "cell_type": "markdown",
      "source": [
        "*stripplot*"
      ],
      "metadata": {
        "id": "rUNcpdrPIj1w"
      }
    },
    {
      "cell_type": "code",
      "source": [
        "\n",
        "boxp = sns.stripplot(x=\"species\", y=\"petal_length\", data=iris, jitter=True, edgecolor=\"gray\")\n"
      ],
      "metadata": {
        "id": "J93iZr7X-FAU"
      },
      "execution_count": null,
      "outputs": []
    },
    {
      "cell_type": "markdown",
      "source": [
        "*pairplot*"
      ],
      "metadata": {
        "id": "ofVkZRC1IwoU"
      }
    },
    {
      "cell_type": "code",
      "source": [
        "\n",
        "sns.set_theme(style=\"ticks\")\n",
        "\n",
        "df = sns.load_dataset(\"iris\")\n",
        "sns.pairplot(df, hue=\"species\")\n"
      ],
      "metadata": {
        "id": "Or5yKFSB-47s"
      },
      "execution_count": null,
      "outputs": []
    },
    {
      "cell_type": "code",
      "source": [
        "# Calculate average of each features for all classes\n",
        "Y_Data = np.array([np.average(X[:, i][Y==j].astype('float32')) for i in range (X.shape[1])\n",
        " for j in (np.unique(Y))])\n",
        "Y_Data_reshaped = Y_Data.reshape(92)\n",
        "Y_Data_reshaped = np.swapaxes(Y_Data_reshaped, 0,0)\n",
        "X_axis = np.arange(len(columns)-1)\n",
        "width = 0.25"
      ],
      "metadata": {
        "id": "wi8zqVv5MVQV"
      },
      "execution_count": null,
      "outputs": []
    },
    {
      "cell_type": "code",
      "source": [
        "# Plot the average\n",
        "plt.bar(X_axis, Y_Data_reshaped[0], width, label = 'Setosa')\n",
        "plt.bar(X_axis+width, Y_Data_reshaped[1], width, label = 'Versicolour')\n",
        "plt.bar(X_axis+width*2, Y_Data_reshaped[2], width, label = 'Virginica')\n",
        "plt.xticks(X_axis, columns[4:4])\n",
        "plt.xlabel(\"Features\")\n",
        "plt.ylabel(\"Value in cm.\")\n",
        "plt.legend(bbox_to_anchor=(1.3,1))\n",
        "plt.show()"
      ],
      "metadata": {
        "id": "o7iX0-Ir2YFt"
      },
      "execution_count": null,
      "outputs": []
    },
    {
      "cell_type": "markdown",
      "source": [
        "**TRAINING AND TESTING OF DATA**\n",
        "\n"
      ],
      "metadata": {
        "id": "sc2C5FU5E6oH"
      }
    },
    {
      "cell_type": "code",
      "source": [
        "from sklearn.model_selection import train_test_split\n",
        "x_train, x_test, y_train, y_test = train_test_split(x, y, test_size=0.4, random_state=5)\n",
        "print(x_train)\n",
        "#print(x_test)\n",
        "#print(y_train)\n",
        "#print(y_test)"
      ],
      "metadata": {
        "id": "T_IACW_r_bEZ"
      },
      "execution_count": null,
      "outputs": []
    },
    {
      "cell_type": "markdown",
      "source": [
        "**LOGISTIC** **REGRESSION**"
      ],
      "metadata": {
        "id": "QGCIbTDFFijK"
      }
    },
    {
      "cell_type": "code",
      "source": [
        "from sklearn.linear_model import LogisticRegression\n",
        "model_L= LogisticRegression()\n"
      ],
      "metadata": {
        "id": "jTtDm7mRz6v3"
      },
      "execution_count": null,
      "outputs": []
    },
    {
      "cell_type": "code",
      "source": [
        "from sklearn import metrics\n",
        "from sklearn.metrics import accuracy_score"
      ],
      "metadata": {
        "id": "DvviU4wE_Nue"
      },
      "execution_count": null,
      "outputs": []
    },
    {
      "cell_type": "code",
      "source": [
        "\n",
        "x = iris.drop('species', axis=1)\n",
        "y = iris.species\n"
      ],
      "metadata": {
        "id": "eHNOdKtg_UPT"
      },
      "execution_count": null,
      "outputs": []
    },
    {
      "cell_type": "code",
      "source": [
        "\n",
        "logreg = LogisticRegression()\n",
        "logreg.fit(x, y)\n",
        "logreg.fit(x_train,y_train)\n",
        "y_pred = logreg.predict(x)\n"
      ],
      "metadata": {
        "id": "shuklLnu_ghE"
      },
      "execution_count": null,
      "outputs": []
    },
    {
      "cell_type": "markdown",
      "source": [
        "**ACCURACY SCORE**"
      ],
      "metadata": {
        "id": "DZnERKZ-L6nP"
      }
    },
    {
      "cell_type": "code",
      "source": [
        "\n",
        "print(metrics.accuracy_score(y, y_pred))\n"
      ],
      "metadata": {
        "id": "o7PXM4_o_nrW"
      },
      "execution_count": null,
      "outputs": []
    },
    {
      "cell_type": "markdown",
      "source": [
        "**SCORE OF TEST DATA**"
      ],
      "metadata": {
        "id": "cUm3mAErLM7b"
      }
    },
    {
      "cell_type": "code",
      "source": [
        "\n",
        "logreg.score(x_test,y_test)\n"
      ],
      "metadata": {
        "id": "yioMZ6F5_stb"
      },
      "execution_count": null,
      "outputs": []
    },
    {
      "cell_type": "markdown",
      "source": [
        "**SCORE OF TRAIN DATA**"
      ],
      "metadata": {
        "id": "QrS7QFvxLEIN"
      }
    },
    {
      "cell_type": "code",
      "source": [
        "\n",
        "logreg.score(x_train,y_train)\n"
      ],
      "metadata": {
        "id": "HqWFvRZG_zDE"
      },
      "execution_count": null,
      "outputs": []
    },
    {
      "cell_type": "markdown",
      "source": [
        "**SVM(SUPPORT VECTOR MACHINE)**"
      ],
      "metadata": {
        "id": "WSnsmJ3HLXKx"
      }
    },
    {
      "cell_type": "code",
      "source": [
        "\n",
        "from sklearn.metrics import classification_report\n",
        "from sklearn.svm import SVC\n",
        "\n",
        "svm = SVC(gamma='auto')\n",
        "svm.fit(x_train, y_train)\n",
        "prediction = svm.predict(x_test)\n",
        "print(f'Accuracy of SVM: {accuracy_score(y_test, prediction)}')\n",
        "print(f'Report of SVM: \\n {classification_report(y_test, prediction)}')\n",
        "\n"
      ],
      "metadata": {
        "id": "rTh-i_kU_4jL"
      },
      "execution_count": null,
      "outputs": []
    }
  ]
}